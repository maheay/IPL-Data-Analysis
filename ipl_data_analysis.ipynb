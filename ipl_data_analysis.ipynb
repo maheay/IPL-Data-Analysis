{
 "cells": [
  {
   "cell_type": "code",
   "execution_count": 0,
   "metadata": {
    "application/vnd.databricks.v1+cell": {
     "cellMetadata": {
      "byteLimit": 2048000,
      "rowLimit": 10000
     },
     "inputWidgets": {},
     "nuid": "bfd12c8e-5076-4657-8009-ecf96d3c47a1",
     "showTitle": false,
     "title": ""
    }
   },
   "outputs": [],
   "source": [
    "from pyspark.sql import SparkSession"
   ]
  },
  {
   "cell_type": "code",
   "execution_count": 0,
   "metadata": {
    "application/vnd.databricks.v1+cell": {
     "cellMetadata": {
      "byteLimit": 2048000,
      "rowLimit": 10000
     },
     "inputWidgets": {},
     "nuid": "0d4d1b2b-65c4-45ab-8125-f76cd7b962d1",
     "showTitle": false,
     "title": ""
    }
   },
   "outputs": [],
   "source": [
    "from pyspark.sql.types import StructField, StructType, IntegerType, BooleanType, DateType, DoubleType, StringType, DecimalType\n",
    "from pyspark.sql.functions import *\n",
    "from pyspark.sql.window import *\n",
    "from pyspark.sql.functions import col, when"
   ]
  },
  {
   "cell_type": "code",
   "execution_count": 0,
   "metadata": {
    "application/vnd.databricks.v1+cell": {
     "cellMetadata": {
      "byteLimit": 2048000,
      "rowLimit": 10000
     },
     "inputWidgets": {},
     "nuid": "10aeaa64-bb1a-4ac3-ab24-a365a2911563",
     "showTitle": false,
     "title": ""
    }
   },
   "outputs": [],
   "source": [
    "spark = SparkSession.builder.appName(\"IPL Data Analysis\").getOrCreate()"
   ]
  },
  {
   "cell_type": "code",
   "execution_count": 0,
   "metadata": {
    "application/vnd.databricks.v1+cell": {
     "cellMetadata": {
      "byteLimit": 2048000,
      "rowLimit": 10000
     },
     "inputWidgets": {},
     "nuid": "203e9075-8a0a-4a26-a1df-ac01125ea55b",
     "showTitle": false,
     "title": ""
    }
   },
   "outputs": [],
   "source": [
    "# Define the schema using StructType and StructField\n",
    "ball_by_ball_schema = StructType([\n",
    "    StructField(\"match_id\", IntegerType(), nullable=True),\n",
    "    StructField(\"over_id\", IntegerType(), nullable=True),\n",
    "    StructField(\"ball_id\", IntegerType(), nullable=True),\n",
    "    StructField(\"innings_no\", IntegerType(), nullable=True),\n",
    "    StructField(\"team_batting\", StringType(), nullable=True),\n",
    "    StructField(\"team_bowling\", StringType(), nullable=True),\n",
    "    StructField(\"striker_batting_position\", IntegerType(), nullable=True),\n",
    "    StructField(\"extra_type\", StringType(), nullable=True),\n",
    "    StructField(\"runs_scored\", IntegerType(), nullable=True),\n",
    "    StructField(\"extra_runs\", IntegerType(), nullable=True),\n",
    "    StructField(\"wides\", IntegerType(), nullable=True),\n",
    "    StructField(\"legbyes\", IntegerType(), nullable=True),\n",
    "    StructField(\"byes\", IntegerType(), nullable=True),\n",
    "    StructField(\"noballs\", IntegerType(), nullable=True),\n",
    "    StructField(\"penalty\", IntegerType(), nullable=True),\n",
    "    StructField(\"bowler_extras\", IntegerType(), nullable=True),\n",
    "    StructField(\"out_type\", StringType(), nullable=True),\n",
    "    StructField(\"caught\", BooleanType(), nullable=True),\n",
    "    StructField(\"bowled\", BooleanType(), nullable=True),\n",
    "    StructField(\"run_out\", BooleanType(), nullable=True),\n",
    "    StructField(\"lbw\", BooleanType(), nullable=True),\n",
    "    StructField(\"retired_hurt\", BooleanType(), nullable=True),\n",
    "    StructField(\"stumped\", BooleanType(), nullable=True),\n",
    "    StructField(\"caught_and_bowled\", BooleanType(), nullable=True),\n",
    "    StructField(\"hit_wicket\", BooleanType(), nullable=True),\n",
    "    StructField(\"obstructingfeild\", BooleanType(), nullable=True),\n",
    "    StructField(\"bowler_wicket\", BooleanType(), nullable=True),\n",
    "    StructField(\"match_date\", DateType(), nullable=True),\n",
    "    StructField(\"season\", IntegerType(), nullable=True),\n",
    "    StructField(\"striker\", IntegerType(), nullable=True),\n",
    "    StructField(\"non_striker\", IntegerType(), nullable=True),\n",
    "    StructField(\"bowler\", IntegerType(), nullable=True),\n",
    "    StructField(\"player_out\", IntegerType(), nullable=True),\n",
    "    StructField(\"fielders\", IntegerType(), nullable=True),\n",
    "    StructField(\"striker_match_sk\", IntegerType(), nullable=True),\n",
    "    StructField(\"strikersk\", IntegerType(), nullable=True),\n",
    "    StructField(\"nonstriker_match_sk\", IntegerType(), nullable=True),\n",
    "    StructField(\"nonstriker_sk\", IntegerType(), nullable=True),\n",
    "    StructField(\"fielder_match_sk\", IntegerType(), nullable=True),\n",
    "    StructField(\"fielder_sk\", IntegerType(), nullable=True),\n",
    "    StructField(\"bowler_match_sk\", IntegerType(), nullable=True),\n",
    "    StructField(\"bowler_sk\", IntegerType(), nullable=True),\n",
    "    StructField(\"playerout_match_sk\", IntegerType(), nullable=True),\n",
    "    StructField(\"battingteam_sk\", IntegerType(), nullable=True),\n",
    "    StructField(\"bowlingteam_sk\", IntegerType(), nullable=True),\n",
    "    StructField(\"keeper_catch\", BooleanType(), nullable=True),\n",
    "    StructField(\"player_out_sk\", IntegerType(), nullable=True),\n",
    "    StructField(\"matchdatesk\", DateType(), nullable=True)\n",
    "])\n"
   ]
  },
  {
   "cell_type": "code",
   "execution_count": 0,
   "metadata": {
    "application/vnd.databricks.v1+cell": {
     "cellMetadata": {
      "byteLimit": 2048000,
      "rowLimit": 10000
     },
     "inputWidgets": {},
     "nuid": "8236c3aa-8108-4b64-8e8b-29f7bdea5e33",
     "showTitle": false,
     "title": ""
    }
   },
   "outputs": [],
   "source": [
    "ball_by_ball_df = spark.read.schema(ball_by_ball_schema).format(\"csv\").option(\"header\", \"true\").load(\"s3://ipl-data-analysis/Ball_By_Ball.csv\")"
   ]
  },
  {
   "cell_type": "code",
   "execution_count": 0,
   "metadata": {
    "application/vnd.databricks.v1+cell": {
     "cellMetadata": {
      "byteLimit": 2048000,
      "rowLimit": 10000
     },
     "inputWidgets": {},
     "nuid": "4d32686f-99e9-4c82-94b4-d9e4abaefd9a",
     "showTitle": false,
     "title": ""
    }
   },
   "outputs": [],
   "source": [
    "# Define the schema using StructType and StructField\n",
    "match_schema = StructType([\n",
    "    StructField(\"match_sk\", IntegerType(), nullable=True),\n",
    "    StructField(\"match_id\", IntegerType(), nullable=True),\n",
    "    StructField(\"team1\", StringType(), nullable=True),\n",
    "    StructField(\"team2\", StringType(), nullable=True),\n",
    "    StructField(\"match_date\", DateType(), nullable=True),\n",
    "    StructField(\"season_year\", IntegerType(), nullable=True),\n",
    "    StructField(\"venue_name\", StringType(), nullable=True),\n",
    "    StructField(\"city_name\", StringType(), nullable=True),\n",
    "    StructField(\"country_name\", StringType(), nullable=True),\n",
    "    StructField(\"toss_winner\", StringType(), nullable=True),\n",
    "    StructField(\"match_winner\", StringType(), nullable=True),\n",
    "    StructField(\"toss_name\", StringType(), nullable=True),\n",
    "    StructField(\"win_type\", StringType(), nullable=True),\n",
    "    StructField(\"outcome_type\", StringType(), nullable=True),\n",
    "    StructField(\"manofmach\", StringType(), nullable=True),\n",
    "    StructField(\"win_margin\", IntegerType(), nullable=True),\n",
    "    StructField(\"country_id\", IntegerType(), nullable=True)\n",
    "])\n"
   ]
  },
  {
   "cell_type": "code",
   "execution_count": 0,
   "metadata": {
    "application/vnd.databricks.v1+cell": {
     "cellMetadata": {
      "byteLimit": 2048000,
      "rowLimit": 10000
     },
     "inputWidgets": {},
     "nuid": "19694fec-441a-42e3-8f4f-0a8be2904988",
     "showTitle": false,
     "title": ""
    }
   },
   "outputs": [],
   "source": [
    "match_df = spark.read.schema(match_schema).format(\"csv\").option(\"header\", \"true\").load(\"s3://ipl-data-analysis/Match.csv\")"
   ]
  },
  {
   "cell_type": "code",
   "execution_count": 0,
   "metadata": {
    "application/vnd.databricks.v1+cell": {
     "cellMetadata": {
      "byteLimit": 2048000,
      "rowLimit": 10000
     },
     "inputWidgets": {},
     "nuid": "076f3f89-2d2f-4b7b-be8d-76eed71ecec2",
     "showTitle": false,
     "title": ""
    }
   },
   "outputs": [],
   "source": [
    "# Define the schema using StructType and StructField\n",
    "player_schema = StructType([\n",
    "    StructField(\"player_sk\", IntegerType(), nullable=True),\n",
    "    StructField(\"player_id\", IntegerType(), nullable=True),\n",
    "    StructField(\"player_name\", StringType(), nullable=True),\n",
    "    StructField(\"dob\", DateType(), nullable=True),\n",
    "    StructField(\"batting_hand\", StringType(), nullable=True),\n",
    "    StructField(\"bowling_skill\", StringType(), nullable=True),\n",
    "    StructField(\"country_name\", StringType(), nullable=True)\n",
    "])\n"
   ]
  },
  {
   "cell_type": "code",
   "execution_count": 0,
   "metadata": {
    "application/vnd.databricks.v1+cell": {
     "cellMetadata": {
      "byteLimit": 2048000,
      "rowLimit": 10000
     },
     "inputWidgets": {},
     "nuid": "62a10bc6-f182-4860-9b26-9094c6f23a83",
     "showTitle": false,
     "title": ""
    }
   },
   "outputs": [],
   "source": [
    "players_df = spark.read.schema(player_schema).format(\"csv\").option(\"header\", \"true\").load(\"s3://ipl-data-analysis/Player.csv\")"
   ]
  },
  {
   "cell_type": "code",
   "execution_count": 0,
   "metadata": {
    "application/vnd.databricks.v1+cell": {
     "cellMetadata": {
      "byteLimit": 2048000,
      "rowLimit": 10000
     },
     "inputWidgets": {},
     "nuid": "bc9477c3-a0b1-4dd9-8ab6-c011da48e5d8",
     "showTitle": false,
     "title": ""
    }
   },
   "outputs": [],
   "source": [
    "# Define the schema using StructType and StructField\n",
    "player_match_schema = StructType([\n",
    "    StructField(\"player_match_sk\", IntegerType(), nullable=True),\n",
    "    StructField(\"playermatch_key\", DecimalType(10, 0), nullable=True),\n",
    "    StructField(\"match_id\", IntegerType(), nullable=True),\n",
    "    StructField(\"player_id\", IntegerType(), nullable=True),\n",
    "    StructField(\"player_name\", StringType(), nullable=True),\n",
    "    StructField(\"dob\", DateType(), nullable=True),\n",
    "    StructField(\"batting_hand\", StringType(), nullable=True),\n",
    "    StructField(\"bowling_skill\", StringType(), nullable=True),\n",
    "    StructField(\"country_name\", StringType(), nullable=True),\n",
    "    StructField(\"role_desc\", StringType(), nullable=True),\n",
    "    StructField(\"player_team\", StringType(), nullable=True),\n",
    "    StructField(\"opposit_team\", StringType(), nullable=True),\n",
    "    StructField(\"season_year\", IntegerType(), nullable=True),\n",
    "    StructField(\"is_manofthematch\", BooleanType(), nullable=True),\n",
    "    StructField(\"age_as_on_match\", IntegerType(), nullable=True),\n",
    "    StructField(\"isplayers_team_won\", BooleanType(), nullable=True),\n",
    "    StructField(\"batting_status\", StringType(), nullable=True),\n",
    "    StructField(\"bowling_status\", StringType(), nullable=True),\n",
    "    StructField(\"player_captain\", StringType(), nullable=True),\n",
    "    StructField(\"opposit_captain\", StringType(), nullable=True),\n",
    "    StructField(\"player_keeper\", StringType(), nullable=True),\n",
    "    StructField(\"opposit_keeper\", StringType(), nullable=True)\n",
    "])\n"
   ]
  },
  {
   "cell_type": "code",
   "execution_count": 0,
   "metadata": {
    "application/vnd.databricks.v1+cell": {
     "cellMetadata": {
      "byteLimit": 2048000,
      "rowLimit": 10000
     },
     "inputWidgets": {},
     "nuid": "6873f5d2-6e08-4ae2-b8af-b2e556495140",
     "showTitle": false,
     "title": ""
    }
   },
   "outputs": [],
   "source": [
    "player_match_df = spark.read.schema(player_match_schema).format(\"csv\").option(\"header\", \"true\").load(\"s3://ipl-data-analysis/Player_match.csv\")"
   ]
  },
  {
   "cell_type": "code",
   "execution_count": 0,
   "metadata": {
    "application/vnd.databricks.v1+cell": {
     "cellMetadata": {
      "byteLimit": 2048000,
      "rowLimit": 10000
     },
     "inputWidgets": {},
     "nuid": "9a1634f7-c525-4c94-9e0d-bb0623998f1d",
     "showTitle": false,
     "title": ""
    }
   },
   "outputs": [],
   "source": [
    "# Define the schema using StructType and StructField\n",
    "team_schema = StructType([\n",
    "    StructField(\"team_sk\", IntegerType(), nullable=True),\n",
    "    StructField(\"team_id\", IntegerType(), nullable=True),\n",
    "    StructField(\"team_name\", StringType(), nullable=True)\n",
    "])\n"
   ]
  },
  {
   "cell_type": "code",
   "execution_count": 0,
   "metadata": {
    "application/vnd.databricks.v1+cell": {
     "cellMetadata": {
      "byteLimit": 2048000,
      "rowLimit": 10000
     },
     "inputWidgets": {},
     "nuid": "6e72e000-e470-4203-b098-0c4d1973efe9",
     "showTitle": false,
     "title": ""
    }
   },
   "outputs": [],
   "source": [
    "team_df = spark.read.schema(team_schema).format(\"csv\").option(\"header\", \"true\").load(\"s3://ipl-data-analysis/Team.csv\")"
   ]
  },
  {
   "cell_type": "code",
   "execution_count": 0,
   "metadata": {
    "application/vnd.databricks.v1+cell": {
     "cellMetadata": {
      "byteLimit": 2048000,
      "rowLimit": 10000
     },
     "inputWidgets": {},
     "nuid": "5079ab8c-6fb8-4f1a-80a9-6ecd3423a9a7",
     "showTitle": false,
     "title": ""
    }
   },
   "outputs": [],
   "source": [
    "# filtering only legal deiliveries(removing wides and no balls)\n",
    "ball_by_ball_df = ball_by_ball_df.filter((col(\"wides\")== 0) & (col(\"noballs\")== 0))\n",
    "\n",
    "#cal total and avg runs scored in each match and inning\n",
    "total_and_avg_runs_scored = ball_by_ball_df.groupBy(\"match_id\", \"innings_no\").agg(\n",
    "    sum(\"runs_scored\").alias(\"Total_runs\"),\n",
    "    avg(\"runs_scored\").alias(\"Avg_runs\")\n",
    ")"
   ]
  },
  {
   "cell_type": "code",
   "execution_count": 0,
   "metadata": {
    "application/vnd.databricks.v1+cell": {
     "cellMetadata": {
      "byteLimit": 2048000,
      "rowLimit": 10000
     },
     "inputWidgets": {},
     "nuid": "fac330c4-63bb-451c-9276-71f2be43c83a",
     "showTitle": false,
     "title": ""
    }
   },
   "outputs": [],
   "source": [
    "#Window Function: Calculate running total of runs in each match for each over.\n",
    "window_spec = Window.partitionBy(\"match_id\", \"innings_no\").orderBy(\"over_id\")\n",
    "\n",
    "ball_by_ball_df = ball_by_ball_df.withColumn(\n",
    "    \"running_total_runs\",\n",
    "    sum(\"runs_scored\").over(window_spec)\n",
    ")"
   ]
  },
  {
   "cell_type": "code",
   "execution_count": 0,
   "metadata": {
    "application/vnd.databricks.v1+cell": {
     "cellMetadata": {
      "byteLimit": 2048000,
      "rowLimit": 10000
     },
     "inputWidgets": {},
     "nuid": "7646a209-5da1-4ba0-a2a3-1d2168491bbf",
     "showTitle": false,
     "title": ""
    }
   },
   "outputs": [],
   "source": [
    "# Conditional Column flag for high impact ball\n",
    "ball_by_ball_df = ball_by_ball_df.withColumn(\n",
    "    \"high_impact\",\n",
    "    when(((col(\"runs_scored\") + col(\"extra_runs\")) > 6) | (col(\"bowler_wicket\") == True), True).otherwise(False)\n",
    ")\n"
   ]
  },
  {
   "cell_type": "code",
   "execution_count": 0,
   "metadata": {
    "application/vnd.databricks.v1+cell": {
     "cellMetadata": {
      "byteLimit": 2048000,
      "rowLimit": 10000
     },
     "inputWidgets": {},
     "nuid": "b7d714b9-2cc4-4952-8116-325cfb37860c",
     "showTitle": false,
     "title": ""
    }
   },
   "outputs": [],
   "source": [
    "#Extracting year, month and year for time-based analysis\n",
    "match_df = match_df.withColumn(\"year\", year(\"match_date\"))\n",
    "match_df = match_df.withColumn(\"month\", month(\"match_date\"))\n",
    "match_df = match_df.withColumn(\"day\", dayofmonth(\"match_date\"))\n",
    "\n",
    "#High Margin Win\n",
    "match_df = match_df.withColumn(\n",
    "    \"win_margin_category\",\n",
    "    when(col(\"win_margin\") >= 100, \"High\")\n",
    "    .when((col(\"win_margin\") >= 50) & (col(\"win_margin\") < 100), \"Medium\")\n",
    "    .otherwise(\"Less\")\n",
    ")\n",
    "\n",
    "#Analyse the impact of the toss\n",
    "match_df = match_df.withColumn(\n",
    "    \"toss_match_winner\",\n",
    "    when(col(\"toss_winner\") == col(\"match_winner\"), \"Yes\").otherwise(\"No\")\n",
    ")\n"
   ]
  },
  {
   "cell_type": "code",
   "execution_count": 0,
   "metadata": {
    "application/vnd.databricks.v1+cell": {
     "cellMetadata": {
      "byteLimit": 2048000,
      "rowLimit": 10000
     },
     "inputWidgets": {},
     "nuid": "2f5bdfe0-c7b2-4743-b344-d7181ea57ec3",
     "showTitle": false,
     "title": ""
    }
   },
   "outputs": [],
   "source": [
    "#Normalize and clean player names\n",
    "players_df = players_df.withColumn(\n",
    "    \"player_name\",\n",
    "    lower(regexp_replace(\"player_name\", \"[^a-zA-Z ]\", \"\"))\n",
    ")\n",
    "\n",
    "#Handle Missing values\n",
    "players_df = players_df.na.replace(\"N/A\", None)\n",
    "\n",
    "players_df = players_df.na.fill({\n",
    "    \"batting_hand\" : \"Unknown\",\n",
    "    \"bowling_skill\" : \"Unknown\"\n",
    "})\n",
    "\n",
    "#Categorizing players based on the batting hand\n",
    "players_df = players_df.withColumn(\n",
    "    \"batting_style\",\n",
    "    when(col(\"batting_hand\").contains(\"Left\"), \"Left-Handed Batsman\").otherwise(\"Right-Handed Batsman\")\n",
    ")\n",
    "\n"
   ]
  },
  {
   "cell_type": "code",
   "execution_count": 0,
   "metadata": {
    "application/vnd.databricks.v1+cell": {
     "cellMetadata": {
      "byteLimit": 2048000,
      "rowLimit": 10000
     },
     "inputWidgets": {},
     "nuid": "d4f61762-fde2-4a07-84f2-89b69ca27263",
     "showTitle": false,
     "title": ""
    }
   },
   "outputs": [],
   "source": [
    "#Add a veteran status based on the age\n",
    "player_match_df = player_match_df.withColumn(\n",
    "    \"veteran_status\",\n",
    "    when(col(\"age_as_on_match\") >= 35, \"Yes\").otherwise(\"No\")\n",
    ")\n",
    "\n",
    "#calulate year since debut\n",
    "player_match_df = player_match_df.withColumn(\n",
    "    \"years_since_Debut\",\n",
    "    (year(current_date()) - col(\"season_year\"))\n",
    ")\n",
    "\n"
   ]
  },
  {
   "cell_type": "code",
   "execution_count": 0,
   "metadata": {
    "application/vnd.databricks.v1+cell": {
     "cellMetadata": {
      "byteLimit": 2048000,
      "rowLimit": 10000
     },
     "inputWidgets": {},
     "nuid": "2820bf3f-52ae-44bb-ba18-5fe2f08f055a",
     "showTitle": false,
     "title": ""
    }
   },
   "outputs": [],
   "source": [
    "ball_by_ball_df.createOrReplaceTempView(\"ball_by_ball\")\n",
    "match_df.createOrReplaceTempView(\"match\")\n",
    "players_df.createOrReplaceTempView(\"player\")\n",
    "player_match_df.createOrReplaceTempView(\"player_match\")\n",
    "team_df.createOrReplaceTempView(\"team\")"
   ]
  },
  {
   "cell_type": "code",
   "execution_count": 0,
   "metadata": {
    "application/vnd.databricks.v1+cell": {
     "cellMetadata": {
      "byteLimit": 2048000,
      "rowLimit": 10000
     },
     "inputWidgets": {},
     "nuid": "9e0e1fb8-83ad-4768-8951-01284dccdbc3",
     "showTitle": false,
     "title": ""
    }
   },
   "outputs": [],
   "source": [
    "top_scoring_batsmen_per_season = spark.sql(\"\"\"\n",
    "SELECT \n",
    "p.player_name,\n",
    "m.season_year,\n",
    "SUM(b.runs_scored) AS total_runs \n",
    "FROM ball_by_ball b\n",
    "JOIN match m ON b.match_id = m.match_id   \n",
    "JOIN player_match pm ON m.match_id = pm.match_id AND b.striker = pm.player_id     \n",
    "JOIN player p ON p.player_id = pm.player_id\n",
    "GROUP BY p.player_name, m.season_year\n",
    "ORDER BY m.season_year, total_runs DESC\n",
    "\"\"\")"
   ]
  },
  {
   "cell_type": "code",
   "execution_count": 0,
   "metadata": {
    "application/vnd.databricks.v1+cell": {
     "cellMetadata": {
      "byteLimit": 2048000,
      "rowLimit": 10000
     },
     "inputWidgets": {},
     "nuid": "d3812bce-f921-40cc-9828-56d03c308f8e",
     "showTitle": false,
     "title": ""
    }
   },
   "outputs": [
    {
     "output_type": "stream",
     "name": "stdout",
     "output_type": "stream",
     "text": [
      "+---------------+------------------+-------------+\n|    player_name| avg_runs_per_ball|total_wickets|\n+---------------+------------------+-------------+\n|     sm harwood|0.3333333333333333|            0|\n|     ankit soni|               0.5|            0|\n|      gr napier|               0.5|            0|\n|       aj finch|               0.5|            0|\n|        a zampa|               0.5|            0|\n|     avesh khan|               0.5|            0|\n|       nb singh|0.5833333333333334|            0|\n|     ag murtaza|0.6538461538461539|            0|\n|      sb bangar|0.6666666666666666|            0|\n|     d du preez|0.6666666666666666|            0|\n|        s gopal|0.6666666666666666|            0|\n|     fh edwards|0.6923076923076923|            0|\n|       a kumble|0.7685185185185185|            0|\n|j syed mohammad|0.7777777777777778|            0|\n|   kp pietersen|0.7777777777777778|            0|\n|       umar gul|0.7777777777777778|            0|\n|  la carseldine|0.8333333333333334|            0|\n|    rj peterson|0.8333333333333334|            0|\n|      ss mundhe|0.8333333333333334|            0|\n|       tl suman|0.8333333333333334|            0|\n+---------------+------------------+-------------+\nonly showing top 20 rows\n\n"
     ]
    }
   ],
   "source": [
    "economical_bowlers_powerplay = spark.sql(\"\"\"\n",
    "SELECT \n",
    "p.player_name, \n",
    "AVG(b.runs_scored) AS avg_runs_per_ball, \n",
    "COUNT(b.bowler_wicket) AS total_wickets\n",
    "FROM ball_by_ball b\n",
    "JOIN player_match pm ON b.match_id = pm.match_id AND b.bowler = pm.player_id\n",
    "JOIN player p ON pm.player_id = p.player_id\n",
    "WHERE b.over_id <= 6\n",
    "GROUP BY p.player_name\n",
    "HAVING COUNT(*) >= 1\n",
    "ORDER BY avg_runs_per_ball, total_wickets DESC\n",
    "\"\"\")\n",
    "economical_bowlers_powerplay.show()"
   ]
  },
  {
   "cell_type": "code",
   "execution_count": 0,
   "metadata": {
    "application/vnd.databricks.v1+cell": {
     "cellMetadata": {
      "byteLimit": 2048000,
      "rowLimit": 10000
     },
     "inputWidgets": {},
     "nuid": "7718c0f3-da67-493d-8690-2c95bd80e5a0",
     "showTitle": false,
     "title": ""
    }
   },
   "outputs": [],
   "source": [
    "toss_impact_individual_matches = spark.sql(\"\"\"\n",
    "SELECT m.match_id, m.toss_winner, m.toss_name, m.match_winner,\n",
    "       CASE WHEN m.toss_winner = m.match_winner THEN 'Won' ELSE 'Lost' END AS match_outcome\n",
    "FROM match m\n",
    "WHERE m.toss_name IS NOT NULL\n",
    "ORDER BY m.match_id\n",
    "\"\"\")"
   ]
  },
  {
   "cell_type": "code",
   "execution_count": 0,
   "metadata": {
    "application/vnd.databricks.v1+cell": {
     "cellMetadata": {
      "byteLimit": 2048000,
      "rowLimit": 10000
     },
     "inputWidgets": {},
     "nuid": "e863634e-f2bb-4a7e-916a-2ac4a8621a0c",
     "showTitle": false,
     "title": ""
    }
   },
   "outputs": [
    {
     "output_type": "stream",
     "name": "stdout",
     "output_type": "stream",
     "text": [
      "+--------+--------------------+---------+--------------------+-------------+\n|match_id|         toss_winner|toss_name|        match_winner|match_outcome|\n+--------+--------------------+---------+--------------------+-------------+\n|  335987|Royal Challengers...|    field|Kolkata Knight Ri...|         Lost|\n|  335988| Chennai Super Kings|      bat| Chennai Super Kings|          Won|\n|  335989|    Rajasthan Royals|      bat|    Delhi Daredevils|         Lost|\n|  335990|      Mumbai Indians|      bat|Royal Challengers...|         Lost|\n|  335991|     Deccan Chargers|      bat|Kolkata Knight Ri...|         Lost|\n|  335992|     Kings XI Punjab|      bat|    Rajasthan Royals|         Lost|\n|  335993|     Deccan Chargers|      bat|    Delhi Daredevils|         Lost|\n|  335994|      Mumbai Indians|    field| Chennai Super Kings|         Lost|\n|  335995|    Rajasthan Royals|    field|    Rajasthan Royals|          Won|\n|  335996|      Mumbai Indians|    field|     Kings XI Punjab|         Lost|\n|  335997|    Rajasthan Royals|    field|    Rajasthan Royals|          Won|\n|  335998|Kolkata Knight Ri...|      bat| Chennai Super Kings|         Lost|\n|  335999|     Deccan Chargers|    field|     Deccan Chargers|          Won|\n|  336000|    Delhi Daredevils|      bat|     Kings XI Punjab|         Lost|\n|  336001| Chennai Super Kings|      bat| Chennai Super Kings|          Won|\n|  336002|Kolkata Knight Ri...|      bat|      Mumbai Indians|         Lost|\n|  336003|Royal Challengers...|    field|    Delhi Daredevils|         Lost|\n|  336004|     Kings XI Punjab|    field|     Kings XI Punjab|          Won|\n|  336005|    Rajasthan Royals|      bat|    Rajasthan Royals|          Won|\n|  336006| Chennai Super Kings|      bat|    Delhi Daredevils|         Lost|\n+--------+--------------------+---------+--------------------+-------------+\nonly showing top 20 rows\n\n"
     ]
    }
   ],
   "source": [
    "toss_impact_individual_matches.show()"
   ]
  },
  {
   "cell_type": "code",
   "execution_count": 0,
   "metadata": {
    "application/vnd.databricks.v1+cell": {
     "cellMetadata": {},
     "inputWidgets": {},
     "nuid": "ca32ece6-44f9-4c86-ada0-779a93943f55",
     "showTitle": false,
     "title": ""
    }
   },
   "outputs": [],
   "source": []
  }
 ],
 "metadata": {
  "application/vnd.databricks.v1+notebook": {
   "dashboards": [],
   "language": "python",
   "notebookMetadata": {
    "pythonIndentUnit": 4
   },
   "notebookName": "IPL Data Analysis with Pyspark",
   "widgets": {}
  }
 },
 "nbformat": 4,
 "nbformat_minor": 0
}
